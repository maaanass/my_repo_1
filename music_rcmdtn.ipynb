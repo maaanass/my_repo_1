{
 "cells": [
  {
   "cell_type": "code",
   "execution_count": 2,
   "id": "be3fffc5",
   "metadata": {},
   "outputs": [
    {
     "name": "stdout",
     "output_type": "stream",
     "text": [
      "enter age 34\n",
      "m/f f\n",
      "Classical\n"
     ]
    },
    {
     "name": "stderr",
     "output_type": "stream",
     "text": [
      "C:\\Users\\maana\\anaconda3\\Lib\\site-packages\\sklearn\\base.py:464: UserWarning: X does not have valid feature names, but DecisionTreeClassifier was fitted with feature names\n",
      "  warnings.warn(\n"
     ]
    }
   ],
   "source": [
    "import pandas as pd\n",
    "from sklearn.tree import DecisionTreeClassifier\n",
    "str=r\"C:\\Users\\maana\\Desktop\\jupyter\\music.csv\"\n",
    "df=pd.read_csv(str)\n",
    "x=df.drop(columns=['genre'])\n",
    "y=df['genre']\n",
    "model=DecisionTreeClassifier()\n",
    "model.fit(x,y)\n",
    "age=int(input(\"enter age \"))\n",
    "gender=input(\"m/f \")\n",
    "if gender=='m':\n",
    "    gen=1\n",
    "else:\n",
    "    gen=0\n",
    "prediction=model.predict([[age, gen]])\n",
    "print(prediction[0])"
   ]
  },
  {
   "cell_type": "code",
   "execution_count": null,
   "id": "66226a75",
   "metadata": {},
   "outputs": [],
   "source": []
  }
 ],
 "metadata": {
  "kernelspec": {
   "display_name": "Python 3 (ipykernel)",
   "language": "python",
   "name": "python3"
  },
  "language_info": {
   "codemirror_mode": {
    "name": "ipython",
    "version": 3
   },
   "file_extension": ".py",
   "mimetype": "text/x-python",
   "name": "python",
   "nbconvert_exporter": "python",
   "pygments_lexer": "ipython3",
   "version": "3.11.5"
  }
 },
 "nbformat": 4,
 "nbformat_minor": 5
}
